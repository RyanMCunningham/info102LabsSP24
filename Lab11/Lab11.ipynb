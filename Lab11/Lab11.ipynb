{
 "cells": [
  {
   "cell_type": "markdown",
   "metadata": {},
   "source": [
    "# Lab 11\n",
    "\n",
    "## SQL Injection\n",
    "In this lab, we will explore SQL injection (SQLi). We're giving you the chance to see what it's like to exploit software. In other words, you'll be hacking. In this lab, we're giving you permission to attempt to inject code into the notebook we've provided. In general, you should not try exploiting outside a controlled classroom environment without more training and knowledge.\n",
    "\n",
    "Below, we have a Python script that mimicks a login site for a web application. This will be your target. **You should not make any changes to this Python script.** When you run this code, it will create a login prompt.\n",
    "\n",
    "Try to log in. Without a username and password, you won't be given access. This web application is vulnerable to SQLi. Can you use SQLi to log in? A tautology injection would be a good place to start."
   ]
  },
  {
   "cell_type": "code",
   "execution_count": null,
   "metadata": {},
   "outputs": [],
   "source": [
    "from ipywidgets import widgets\n",
    "from hashlib import md5\n",
    "\n",
    "%reload_ext sql\n",
    "conn=\"sqlite:///accounts.db\"\n",
    "\n",
    "def login(a):\n",
    "    print(\"Checking database.\")\n",
    "    username=textUsername.value\n",
    "    password=textPassword.value\n",
    "    passHash=md5(password.encode(\"ASCII\")).hexdigest()\n",
    "    query=\"SELECT * FROM usernames WHERE username='\"+username+\"' AND password='\"+passHash+\"';\"\n",
    "    result = %sql $conn $query\n",
    "    if len(result)>0:\n",
    "        for r in result:\n",
    "            print(\"ACCESS GRANTED\")\n",
    "            print(\"Welcome \"+str(r[0]))\n",
    "            print(\"Your account balance is \"+str(r[1]))\n",
    "    else:\n",
    "        print(\"ACCESS DENIED\")\n",
    "\n",
    "textUsername=widgets.Text(description=\"Username\")   \n",
    "textPassword=widgets.Password(description = \"Password:\")\n",
    "loginButton = widgets.Button(\n",
    "    description='Login',\n",
    "    disabled=False,\n",
    "    button_style='info',\n",
    "    icon='',\n",
    "    tooltip='Login with username and password',\n",
    ")\n",
    "loginButton.on_click(login) \n",
    "vbox_conf = widgets.VBox(children=[textUsername, textPassword, loginButton])             \n",
    "        # alternative: self.button.observe(self.login, names='value') \n",
    "display(vbox_conf)"
   ]
  },
  {
   "cell_type": "markdown",
   "metadata": {},
   "source": [
    "## Going Deeper\n",
    "If you're able to use SQLi to log in, you've already achieved quite a bit. Let's see if you can take this attack one step further using a bit more SQL knowledge. Can you use SQLi to gain access to the other columns in this table? In other words, can you also dump the password hashes? Has your password ever been part of a data breach? If so, this is probably how it happened.\n",
    "\n",
    "You will find [this](https://portswigger.net/web-security/sql-injection/union-attacks) to be a helpful technique to get out the password hashes, though others are possible.\n",
    "\n",
    "What is a password hash? We'll talk about it a bit more in class, but [this](https://stytch.com/blog/what-is-password-hashing/) is a good basic explainer. Importantly, these password hashes aren't actually the passwords. You can't type them in and get access to an account. You'll have to [crack](https://en.wikipedia.org/wiki/Password_cracking) them first to get the real passwords. [This](https://crackstation.net) website will be useful for that.\n",
    "\n",
    "## A Brief Note\n",
    "\n",
    "Computer security is a field of emotional highs and lows. You can be completely frustrated one minute and exhilarated the next. Even a minor mistake can cost hours. Since you're only able to make guesses and inferrencces, hackers spend a lot of time stumbling around in the dark. Developing an exploit requires patience and persistence. If you can't get some of this lab to work, that's understandable. Just don't give up right away."
   ]
  },
  {
   "cell_type": "markdown",
   "metadata": {},
   "source": [
    "## Lab Questions\n",
    "\n",
    "1. Can you log in to an account? Which account?\n",
    "2. **CHALLENGE** Can you dump out the **entire** database, including the password hashes?\n",
    "3. **CHALLENGE** Can you tell us what all (or even some) of the user's plaintext passwords actually are?"
   ]
  }
 ],
 "metadata": {
  "kernelspec": {
   "display_name": "Python 3",
   "language": "python",
   "name": "python3"
  },
  "language_info": {
   "codemirror_mode": {
    "name": "ipython",
    "version": 3
   },
   "file_extension": ".py",
   "mimetype": "text/x-python",
   "name": "python",
   "nbconvert_exporter": "python",
   "pygments_lexer": "ipython3",
   "version": "3.8.5"
  }
 },
 "nbformat": 4,
 "nbformat_minor": 4
}

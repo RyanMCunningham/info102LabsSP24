{
 "cells": [
  {
   "cell_type": "markdown",
   "metadata": {},
   "source": [
    "# Lab 11\n",
    "\n",
    "## SQL Injection\n",
    "In this lab, we will explore SQL injection (SQLi). \n",
    "\n"
   ]
  },
  {
   "cell_type": "code",
   "execution_count": null,
   "metadata": {},
   "outputs": [],
   "source": [
    "from ipywidgets import widgets\n",
    "from hashlib import md5\n",
    "\n",
    "%reload_ext sql\n",
    "conn=\"sqlite:///accounts.db\"\n",
    "\n",
    "def login(a):\n",
    "    print(\"Checking database.\")\n",
    "    username=textUsername.value\n",
    "    password=textPassword.value\n",
    "    passHash=md5(password.encode(\"ASCII\")).hexdigest()\n",
    "    query=\"SELECT * FROM usernames WHERE username='\"+username+\"' AND password='\"+passHash+\"';\"\n",
    "    result = %sql $conn $query\n",
    "    if len(result)>0:\n",
    "        for r in result:\n",
    "            print(\"ACCESS GRANTED\")\n",
    "            print(\"Welcome \"+str(r[0]))\n",
    "            print(\"Your account balance is \"+str(r[1]))\n",
    "    else:\n",
    "        print(\"ACCESS DENIED\")\n",
    "\n",
    "textUsername=widgets.Text(description=\"Username\")   \n",
    "textPassword=widgets.Password(description = \"Password:\")\n",
    "loginButton = widgets.Button(\n",
    "    description='Login',\n",
    "    disabled=False,\n",
    "    button_style='info',\n",
    "    icon='',\n",
    "    tooltip='Login with username and password',\n",
    ")\n",
    "loginButton.on_click(login) \n",
    "vbox_conf = widgets.VBox(children=[textUsername, textPassword, loginButton])             \n",
    "        # alternative: self.button.observe(self.login, names='value') \n",
    "display(vbox_conf)\n"
   ]
  },
  {
   "cell_type": "markdown",
   "metadata": {},
   "source": [
    "## A Note\n",
    "\n",
    "Computer security is a field of emotional highs and lows. You can be completely frustrated one minute and exhilarated the next. Even a minor mistake can cost hours. Since you're only able to make guesses and inferrencces, you spend a lot of time stumbling around in the dark. Developing an exploit requires patience and persistence. If you can't get some of this lab to work, that's understandable. Just don't give up right away."
   ]
  },
  {
   "cell_type": "markdown",
   "metadata": {},
   "source": [
    "## Lab Questions\n",
    "\n",
    "1. Can you log in to an account? Which account?\n",
    "2. Can you dump out the **entire** database, including the password hashes?\n",
    "3. Can you tell us what all the user's plaintext passwords actually are?"
   ]
  }
 ],
 "metadata": {
  "kernelspec": {
   "display_name": "Python 3",
   "language": "python",
   "name": "python3"
  },
  "language_info": {
   "codemirror_mode": {
    "name": "ipython",
    "version": 3
   },
   "file_extension": ".py",
   "mimetype": "text/x-python",
   "name": "python",
   "nbconvert_exporter": "python",
   "pygments_lexer": "ipython3",
   "version": "3.8.5"
  }
 },
 "nbformat": 4,
 "nbformat_minor": 4
}

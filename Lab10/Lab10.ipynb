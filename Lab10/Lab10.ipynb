{
 "cells": [
  {
   "cell_type": "markdown",
   "metadata": {},
   "source": [
    "# Lab 10\n",
    "\n",
    "## Video Game Sales Database\n",
    "\n",
    "In this lab, we will explore SQL queries using a database of video game sales we downloaded from [Kaggle](https://www.kaggle.com/code/faisaljanjua0555/eda-video-games-sales). This database is simple. There's only one table. Each row of the table is a single video game. The columns in this database include the name of the game, the platform (console,) the year the game was published, the genre of the game, the game's publisher, and the sales for North America, Europe, Japan, other places, and total global sales. \n",
    "\n",
    "In SQL, the name of this table is `vgsale`. The names of the columns are as follows: `Name`,`Platform`,`Year`,`Genre`, `Publisher`, `NA_Sales`, `EU_Sales`, `JP_Sales`, `Other_Sales`, and `Global_Sales`.\n",
    "\n",
    "One important caveate for this lab before we get started. This database is incomplete. The queries we make against it won't necessarily give us the absolute truth. Our queries can only answer queries about the games included in this database, so those answers might not be comprehensive.\n",
    "\n",
    "## Getting started\n",
    "\n",
    "Before we can begin, we need to load the database and get our Jupyter notebook ready to run SQL queries. We can do that by running the two lines in the cell below. Click on the cell and then click the \"Run\" button above."
   ]
  },
  {
   "cell_type": "code",
   "execution_count": null,
   "metadata": {},
   "outputs": [],
   "source": [
    "%load_ext sql\n",
    "%sql sqlite:///vgsales.db"
   ]
  },
  {
   "cell_type": "markdown",
   "metadata": {},
   "source": [
    "## Simple Queries\n",
    "As long as you don't get any error messages, you should now be ready to run SQL queries against the database. Let's start with some simple queries. First, let's count how many rows there are in our database. The next SQL query should look familiar from class. Before each query, we have to add `%%sql` to let Jupyter know we're writing a SQL query."
   ]
  },
  {
   "cell_type": "code",
   "execution_count": null,
   "metadata": {},
   "outputs": [],
   "source": [
    "%%sql\n",
    "SELECT COUNT(*)\n",
    "FROM vgsale;"
   ]
  },
  {
   "cell_type": "markdown",
   "metadata": {},
   "source": [
    "Could a game occur in our database more than once? Let's find out. We know how many rows there are in the database. Let's find out how many distinct game titles there are."
   ]
  },
  {
   "cell_type": "code",
   "execution_count": null,
   "metadata": {},
   "outputs": [],
   "source": [
    "%%sql\n",
    "SELECT COUNT(DISTINCT Name)\n",
    "FROM vgsale;"
   ]
  },
  {
   "cell_type": "markdown",
   "metadata": {},
   "source": [
    "Interesting. There are more rows in our database than there are unique video game titles. It seems like there might be some games that occur more than once in our database. Let's find out which game titles occur most often in the database with a fancy query. Running the query below will find the 10 names (titles) that occur in our database most often."
   ]
  },
  {
   "cell_type": "code",
   "execution_count": 1,
   "metadata": {},
   "outputs": [
    {
     "name": "stderr",
     "output_type": "stream",
     "text": [
      "UsageError: Cell magic `%%sql` not found.\n"
     ]
    }
   ],
   "source": [
    "%%sql\n",
    "SELECT Name, COUNT(Name) as occurences\n",
    "FROM vgsale\n",
    "GROUP BY Name\n",
    "HAVING COUNT(Name) > 1\n",
    "ORDER BY occurences DESC\n",
    "LIMIT 10"
   ]
  },
  {
   "cell_type": "markdown",
   "metadata": {},
   "source": [
    "Fancy! If you don't understand this query, that's okay. The point here is that SQL can help us answer very complicated questions.\n",
    "\n",
    "Why would a game appear in more than one row of the database? There must be games that were published for more than one platform. In the previous query output, we saw one game in particular was published on a lot of consoles. Let's figure out which consoles that game was published on. In other words, let's write a query that will list the platforms a particular game was published for. In the query below, replace the text `REPLACE ME` with the appropriate video game's name and run the query."
   ]
  },
  {
   "cell_type": "code",
   "execution_count": null,
   "metadata": {},
   "outputs": [],
   "source": [
    "%%sql\n",
    "SELECT Platform\n",
    "FROM vgsale\n",
    "WHERE Name='REPLACE ME'"
   ]
  },
  {
   "cell_type": "markdown",
   "metadata": {},
   "source": [
    "Now it's your turn to write a query. How many distinct platforms are there in our database? Write a query to find out. Your query should be very similar to the query we used earlier to find the number of distinct video game titles. Write your query in the cell below beneath `%%sql` and run it. Ask your TA if you need help getting started."
   ]
  },
  {
   "cell_type": "code",
   "execution_count": null,
   "metadata": {},
   "outputs": [],
   "source": [
    "%%sql\n"
   ]
  },
  {
   "cell_type": "markdown",
   "metadata": {},
   "source": [
    "Try writing another SQL query. How many distinct publishers appear in our database? This query should also be very similar to a previous query. Look at the query to find the number of distinct video game titles. If you change the column name in that query, you should be able to find the information you need."
   ]
  },
  {
   "cell_type": "code",
   "execution_count": null,
   "metadata": {},
   "outputs": [],
   "source": [
    "%%sql\n"
   ]
  },
  {
   "cell_type": "markdown",
   "metadata": {},
   "source": [
    "Here is a query to determine how many games were published in 1999. You should modify it to find out how many games were published in 2005."
   ]
  },
  {
   "cell_type": "code",
   "execution_count": null,
   "metadata": {},
   "outputs": [],
   "source": [
    "%%sql \n",
    "SELECT count(DISTINCT Name)\n",
    "FROM vgsale\n",
    "WHERE year=1999;"
   ]
  },
  {
   "cell_type": "markdown",
   "metadata": {},
   "source": [
    "## Sales Queries\n",
    "Now that we have some understanding of the structure of our database and what games are in it, let's explore the sales data in it. Let's find the average total sales per game on each platform."
   ]
  },
  {
   "cell_type": "code",
   "execution_count": null,
   "metadata": {},
   "outputs": [],
   "source": [
    "%%sql\n",
    "SELECT Platform,AVG(Global_Sales) as Average\n",
    "FROM vgsale\n",
    "GROUP BY Platform\n",
    "Order by Average"
   ]
  },
  {
   "cell_type": "markdown",
   "metadata": {},
   "source": [
    "Modify the previous query. Instead of finding the average sales per game on each platform, find the average global sales for each publisher."
   ]
  },
  {
   "cell_type": "markdown",
   "metadata": {},
   "source": [
    "Let's find out how many millions of dollars in video game sales were made outside of North America. This sounds like a complicated question to answer, but the SQL query is quite simple. We can just subtract the North American sales from the global sales."
   ]
  },
  {
   "cell_type": "code",
   "execution_count": null,
   "metadata": {},
   "outputs": [],
   "source": [
    "%%sql\n",
    "SELECT ROUND(SUM(Global_Sales)-SUM(NA_Sales))\n",
    "FROM vgsale"
   ]
  },
  {
   "cell_type": "markdown",
   "metadata": {},
   "source": [
    "How percentage of sales were made in Japan? Can you modify the previous query to answer this question?"
   ]
  },
  {
   "cell_type": "markdown",
   "metadata": {},
   "source": [
    "## Advanced SQL Queries\n",
    "In this section, we are going to demonstrate some of the advanced capabilites of SQL. These queries might be hard to understand. That's okay. You can ask your TA for help. The goal here is to show you how powerful SQL can be.\n",
    "\n",
    "### Sub-queries\n",
    "First, let's take a look at a SQL query that has another SQL query inside of it. We call these \"sub-queries\". Try to figure out what question this query is answering."
   ]
  },
  {
   "cell_type": "code",
   "execution_count": null,
   "metadata": {},
   "outputs": [],
   "source": [
    "%%sql\n",
    "SELECT t1.Name,t1.Platform\n",
    "FROM vgsale AS t1\n",
    "WHERE (t1.Platform,t1.Global_Sales) IN\n",
    "    (SELECT Platform,MAX(Global_Sales) \n",
    "     FROM vgsale\n",
    "     GROUP BY Platform)"
   ]
  },
  {
   "cell_type": "markdown",
   "metadata": {},
   "source": [
    "### Views\n",
    "Let's look at another fancy query. This one creates a `VIEW`. A view is a temporary new table that we can write queries against. Again, see if you can figure out what question this query is answering."
   ]
  },
  {
   "cell_type": "code",
   "execution_count": null,
   "metadata": {},
   "outputs": [],
   "source": [
    "%%sql\n",
    "CREATE VIEW IF NOT EXISTS popular_genres AS\n",
    "SELECT Year,Genre,COUNT(DISTINCT Name) AS Titles\n",
    "FROM vgsale\n",
    "GROUP BY Year,Genre;\n",
    "\n",
    "SELECT t1.Year,t1.Genre,t1.Titles\n",
    "FROM popular_genres AS t1\n",
    "WHERE (t1.Year,t1.Titles) IN (\n",
    "    SELECT Year,MAX(Titles)\n",
    "    FROM popular_genres\n",
    "    GROUP BY Year)    "
   ]
  },
  {
   "cell_type": "markdown",
   "metadata": {},
   "source": [
    "### Self-joins\n",
    "Let's look at one final advanced query. This one uses `JOIN`. A join combines the rows of one table with the rows of another table. In this case, we are joining our `vgsale` table with another copy of itself! This allows us to ask questions about pairs of games. "
   ]
  },
  {
   "cell_type": "code",
   "execution_count": null,
   "metadata": {},
   "outputs": [],
   "source": [
    "%%sql\n",
    "SELECT t1.Name, COUNT(DISTINCT t2.Name) AS sequels\n",
    "FROM vgsale t1 JOIN vgsale t2\n",
    "WHERE t2.Name LIKE t1.name || \" %\"\n",
    "GROUP BY t1.Name\n",
    "ORDER BY sequels DESC\n",
    "LIMIT 10"
   ]
  },
  {
   "cell_type": "markdown",
   "metadata": {},
   "source": [
    "## Lab Questions\n",
    "\n",
    "1. How many rows are in our database? How many video game titles are in our database?\n",
    "2. What game was published for the most consoles? What consoles was it published for?\n",
    "3. How many different consoles appear in our database? How many different publishers appear in our database?\n",
    "4. How many games were published in 1999? How many were published in 2005?\n",
    "5. Which console had the highest average global sales? Which publisher had the highest average global sales?\n",
    "6. How many millionds of dollars in video game sales were made outside North America? What percentage of global sales were made in Japan?\n",
    "7. What did the query in the \"Sub-queries\" section do? \n",
    "8. What did the query in the \"Views\" section do?\n",
    "9. What did the query in the \"Self-joins\" section do?\n",
    "10. Think of a question about our video games table that you might be able to answer with a SQL query. Describe that question to us.\n",
    "11. CHALLENGE: Write a SQL query to answer your question."
   ]
  }
 ],
 "metadata": {
  "kernelspec": {
   "display_name": "Python 3",
   "language": "python",
   "name": "python3"
  },
  "language_info": {
   "codemirror_mode": {
    "name": "ipython",
    "version": 3
   },
   "file_extension": ".py",
   "mimetype": "text/x-python",
   "name": "python",
   "nbconvert_exporter": "python",
   "pygments_lexer": "ipython3",
   "version": "3.8.5"
  }
 },
 "nbformat": 4,
 "nbformat_minor": 4
}
